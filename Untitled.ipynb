{
 "cells": [
  {
   "cell_type": "code",
   "execution_count": 1,
   "metadata": {},
   "outputs": [],
   "source": [
    "import itertools\n",
    "from collections import Counter\n",
    "import random"
   ]
  },
  {
   "cell_type": "code",
   "execution_count": 2,
   "metadata": {},
   "outputs": [
    {
     "data": {
      "text/plain": [
       "(0, 0, 0, 1, 1)"
      ]
     },
     "execution_count": 2,
     "metadata": {},
     "output_type": "execute_result"
    }
   ],
   "source": [
    "# All 32 possible 5 bits representations\n",
    "lst = list(itertools.product([0, 1], repeat=5))\n",
    "lst[3]"
   ]
  },
  {
   "cell_type": "code",
   "execution_count": 3,
   "metadata": {},
   "outputs": [
    {
     "data": {
      "text/plain": [
       "3"
      ]
     },
     "execution_count": 3,
     "metadata": {},
     "output_type": "execute_result"
    }
   ],
   "source": [
    "def max_zero_sequence(tpl):\n",
    "    max_count = 0\n",
    "    count = 0\n",
    "    for v in tpl:\n",
    "        if(v==0):\n",
    "            count+=1\n",
    "        else:\n",
    "            count = 0\n",
    "        max_count = max(count, max_count)\n",
    "    return max_count\n",
    "max_zero_sequence(lst[3])"
   ]
  },
  {
   "cell_type": "code",
   "execution_count": 4,
   "metadata": {},
   "outputs": [
    {
     "data": {
      "text/plain": [
       "Counter({5: 1, 4: 2, 3: 5, 2: 11, 1: 12, 0: 1})"
      ]
     },
     "execution_count": 4,
     "metadata": {},
     "output_type": "execute_result"
    }
   ],
   "source": [
    "# counting max_zero_sequences distribution accross the representations\n",
    "Counter([max_zero_sequence(x) for x in lst])\n"
   ]
  },
  {
   "cell_type": "markdown",
   "metadata": {},
   "source": [
    "As we can see in the cell above:\n",
    "\n",
    "- max_zero_sequence = 0 -> 1 times\n",
    "- max_zero_sequence = 1 -> 12 times\n",
    "- max_zero_sequence = 2 -> 11 times\n",
    "- max_zero_sequence = 3 -> 5 times\n",
    "- max_zero_sequence = 4 -> 2 times\n",
    "- max_zero_sequence = 5 -> 1 times\n",
    "\n",
    "We need to choose 16 representations of 32 to map in this codification.\n",
    "The best ones are the ones which minimizes the zero's sequences representing the data.\n",
    "Of course the representations with  max_zero_sequence = 1 or 0 are the best ones. But, as we can see in the cell above we also need to choose 3 more representations with max_zero_sequence = 2\n",
    "\n",
    "In this case we need to ensure that representations which the zeros are inside of the 5 bits, but there are just 2 of then:\n",
    "- 10011\n",
    "- 11001\n",
    "\n",
    "So the last one can be one of these:\n",
    "- 01001\n",
    "- 10010\n",
    "- 10001\n",
    "\n",
    "All of these 3 combinations will produce, in the worst case, a maximum of 3 zeros in sequence. In this example I'll choose the **10001**"
   ]
  },
  {
   "cell_type": "code",
   "execution_count": null,
   "metadata": {},
   "outputs": [],
   "source": [
    "# cell used to filter the chosen values\n",
    "def should_map(tpl):\n",
    "    if max_zero_sequence(tpl) < 2:\n",
    "        return True\n",
    "    if(tpl == (1, 0, 0, 1, 1) or tpl == (1, 1, 0, 0, 1) or tpl == (1, 0, 0, 0, 1)):\n",
    "        return True\n",
    "    return False\n",
    "[x for x in list(itertools.product([0, 1], repeat=5)) if should_map(x)]"
   ]
  },
  {
   "cell_type": "code",
   "execution_count": null,
   "metadata": {},
   "outputs": [],
   "source": [
    "# mapping the 4bits into 5bits minimizing 0 sequences\n",
    "map_4b_to_5b = {}\n",
    "map_4b_to_5b[(0, 0, 0, 0)] = (0, 1, 0, 1, 0)\n",
    "map_4b_to_5b[(0, 0, 0, 1)] = (0, 1, 0, 1, 1)\n",
    "map_4b_to_5b[(0, 0, 1, 0)] = (0, 1, 1, 0, 1)\n",
    "map_4b_to_5b[(0, 0, 1, 1)] = (0, 1, 1, 1, 0)\n",
    "map_4b_to_5b[(0, 1, 0, 0)] = (0, 1, 1, 1, 1)\n",
    "map_4b_to_5b[(0, 1, 0, 1)] = (1, 0, 0, 0, 1)\n",
    "map_4b_to_5b[(0, 1, 1, 0)] = (1, 0, 0, 1, 1)\n",
    "map_4b_to_5b[(0, 1, 1, 1)] = (1, 0, 1, 0, 1)\n",
    "map_4b_to_5b[(1, 0, 0, 0)] = (1, 0, 1, 1, 0)\n",
    "map_4b_to_5b[(1, 0, 0, 1)] = (1, 0, 1, 1, 1)\n",
    "map_4b_to_5b[(1, 0, 1, 0)] = (1, 1, 0, 0, 1)\n",
    "map_4b_to_5b[(1, 0, 1, 1)] = (1, 1, 0, 1, 0)\n",
    "map_4b_to_5b[(1, 1, 0, 0)] = (1, 1, 0, 1, 1)\n",
    "map_4b_to_5b[(1, 1, 0, 1)] = (1, 1, 1, 0, 1)\n",
    "map_4b_to_5b[(1, 1, 1, 0)] = (1, 1, 1, 1, 0)\n",
    "map_4b_to_5b[(1, 1, 1, 1)] = (1, 1, 1, 1, 1)"
   ]
  },
  {
   "cell_type": "code",
   "execution_count": null,
   "metadata": {},
   "outputs": [],
   "source": [
    "map_4b_to_5b[(0, 0, 0, 0)]"
   ]
  },
  {
   "cell_type": "code",
   "execution_count": null,
   "metadata": {},
   "outputs": [],
   "source": [
    "def shouldInvert_NRZ_L(previous, current):\n",
    "    if(previous != current):\n",
    "        return True\n",
    "    return False\n",
    "def shouldInvert_NRZ_I(previous, current):\n",
    "    if(current == 1):\n",
    "        return True\n",
    "    return False\n",
    "\n",
    "def countInversions(bitSequence):\n",
    "    previousBit = 0\n",
    "    count_NRZ_L = 0\n",
    "    count_without_inversion_NRZ_L = 0\n",
    "    max_count_without_inversion_NRZ_L = 0\n",
    "    count_NRZ_I = 0\n",
    "    count_without_inversion_NRZ_I = 0\n",
    "    max_count_without_inversion_NRZ_I = 0\n",
    "    for currentBit in bitSequence:\n",
    "        if(shouldInvert_NRZ_L(previousBit, currentBit)):\n",
    "            count_NRZ_L += 1\n",
    "            count_without_inversion_NRZ_L = 0\n",
    "        else:\n",
    "            count_without_inversion_NRZ_L += 1\n",
    "            max_count_without_inversion_NRZ_L = max(count_without_inversion_NRZ_L, max_count_without_inversion_NRZ_L)\n",
    "            \n",
    "        if(shouldInvert_NRZ_I(previousBit, currentBit)):\n",
    "            count_NRZ_I += 1\n",
    "            count_without_inversion_NRZ_I = 0\n",
    "        else:\n",
    "            count_without_inversion_NRZ_I += 1\n",
    "            max_count_without_inversion_NRZ_I = max(count_without_inversion_NRZ_I, max_count_without_inversion_NRZ_I)\n",
    "        previousBit = currentBit\n",
    "    print(\"For this bitSequence of length: \", len(bitSequence))\n",
    "    print(\"\\tNRZ-L:\")\n",
    "    print(\"\\t\\tInversions: \", count_NRZ_L)\n",
    "    print(\"\\t\\tLongest Sequence withou inversion: \" , max_count_without_inversion_NRZ_L)\n",
    "    print(\"\\tNRZ-I:\")\n",
    "    print(\"\\t\\tInversions: \", count_NRZ_I)\n",
    "    print(\"\\t\\tLongest Sequence withou inversion: \" , max_count_without_inversion_NRZ_I)\n",
    "    \n",
    "countInversions([0,1,1,1,1,1,1,0])"
   ]
  },
  {
   "cell_type": "code",
   "execution_count": null,
   "metadata": {},
   "outputs": [],
   "source": [
    "# helper functions\n",
    "def sliceBitSequenceInto4BitsParts(bitSequence):\n",
    "    size = 4\n",
    "    return list(tuple(bitSequence[x*size:x*size+size]) for x in range(len(bitSequence)//size) )\n",
    "\n",
    "def concatListOfTuples(listOfTuples):\n",
    "    lst = []\n",
    "    for tpl in listOfTuples:\n",
    "        lst += list(tpl)\n",
    "    return lst\n",
    "\n",
    "def generateRandomBitSequence(size):\n",
    "    lst = []\n",
    "    for i in range(size):\n",
    "        lst.append(random.randint(0, 1))\n",
    "    return lst\n",
    "\n",
    "print(sliceBitSequenceInto4BitsParts([0,0,0,0,1,1,1,1]))\n",
    "print(concatListOfTuples(sliceBitSequenceInto4BitsParts([0,0,0,0,1,1,1,1])))\n",
    "print(generateRandomBitSequence(20))"
   ]
  },
  {
   "cell_type": "code",
   "execution_count": null,
   "metadata": {},
   "outputs": [],
   "source": [
    "def doTheExperiment(bitSequence):\n",
    "    sliced = sliceBitSequenceInto4BitsParts(bitSequence)\n",
    "    \n",
    "    # mapping to 5bits according to my mapping table made before\n",
    "    mapped_to_5b = []\n",
    "    for tpl in sliced:\n",
    "        mapped_to_5b += list(map_4b_to_5b[tpl])\n",
    "    \n",
    "    countInversions(mapped_to_5b)\n"
   ]
  },
  {
   "cell_type": "code",
   "execution_count": null,
   "metadata": {},
   "outputs": [],
   "source": [
    "print(\"\\n########### Experiment 1 ###########\")\n",
    "doTheExperiment(generateRandomBitSequence(100000))\n",
    "print(\"\\n########### Experiment 2 ###########\")\n",
    "doTheExperiment(generateRandomBitSequence(100000))\n",
    "print(\"\\n########### Experiment 3 ###########\")\n",
    "doTheExperiment(generateRandomBitSequence(100000))\n",
    "print(\"\\n########### Experiment 4 ###########\")\n",
    "doTheExperiment(generateRandomBitSequence(100000))"
   ]
  },
  {
   "cell_type": "code",
   "execution_count": null,
   "metadata": {},
   "outputs": [],
   "source": []
  },
  {
   "cell_type": "code",
   "execution_count": null,
   "metadata": {},
   "outputs": [],
   "source": []
  }
 ],
 "metadata": {
  "kernelspec": {
   "display_name": "Python 3",
   "language": "python",
   "name": "python3"
  },
  "language_info": {
   "codemirror_mode": {
    "name": "ipython",
    "version": 3
   },
   "file_extension": ".py",
   "mimetype": "text/x-python",
   "name": "python",
   "nbconvert_exporter": "python",
   "pygments_lexer": "ipython3",
   "version": "3.8.5"
  }
 },
 "nbformat": 4,
 "nbformat_minor": 4
}
